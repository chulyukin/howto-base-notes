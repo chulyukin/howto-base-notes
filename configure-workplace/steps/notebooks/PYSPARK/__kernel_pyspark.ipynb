{
 "cells": [
  {
   "cell_type": "markdown",
   "id": "3d7ab3e8-a4ed-488d-bebc-2d301774bc5d",
   "metadata": {},
   "source": [
    "# PySpark 3"
   ]
  },
  {
   "cell_type": "markdown",
   "id": "c9beeac6-999a-4245-bdc8-db4830a4ca40",
   "metadata": {},
   "source": [
    "## Версия "
   ]
  },
  {
   "cell_type": "code",
   "execution_count": 1,
   "id": "e7d3f9ad-3743-4026-9a2f-dce17414b207",
   "metadata": {},
   "outputs": [
    {
     "name": "stdout",
     "output_type": "stream",
     "text": [
      "Python 3.13.3\n"
     ]
    }
   ],
   "source": [
    "!python3 --version"
   ]
  },
  {
   "cell_type": "code",
   "execution_count": 2,
   "id": "f2b33511-af5f-4f63-b28d-9447da7aa90a",
   "metadata": {},
   "outputs": [
    {
     "name": "stdout",
     "output_type": "stream",
     "text": [
      "Python 3.13.3\n"
     ]
    }
   ],
   "source": [
    "! ~/pysparkenv/bin/python3 --version"
   ]
  },
  {
   "cell_type": "markdown",
   "id": "854c2c0b-7723-4bae-a326-b342797d4eb9",
   "metadata": {},
   "source": [
    "## Kernel "
   ]
  },
  {
   "cell_type": "code",
   "execution_count": 3,
   "id": "f1465d1a-47f6-4f01-b9ef-c49f8a1f8c41",
   "metadata": {},
   "outputs": [
    {
     "name": "stdout",
     "output_type": "stream",
     "text": [
      "/home/user/WORKSHOP/PYSPARK\n"
     ]
    }
   ],
   "source": [
    "!pwd"
   ]
  },
  {
   "cell_type": "code",
   "execution_count": 4,
   "id": "ce808821-32ea-4cf4-ba80-c1c75f112142",
   "metadata": {},
   "outputs": [
    {
     "name": "stdout",
     "output_type": "stream",
     "text": [
      "Available kernels:\n",
      "  python3       /home/user/mainenv/share/jupyter/kernels/python3\n",
      "  pydevenv      /home/user/.local/share/jupyter/kernels/pydevenv\n",
      "  pymlenv       /home/user/.local/share/jupyter/kernels/pymlenv\n",
      "  pysparkenv    /home/user/.local/share/jupyter/kernels/pysparkenv\n",
      "  pytorchenv    /home/user/.local/share/jupyter/kernels/pytorchenv\n"
     ]
    }
   ],
   "source": [
    "!jupyter kernelspec list"
   ]
  },
  {
   "cell_type": "code",
   "execution_count": 5,
   "id": "161b3209-dab8-46e9-8246-5a520a2d9fee",
   "metadata": {},
   "outputs": [
    {
     "name": "stdout",
     "output_type": "stream",
     "text": [
      "{\n",
      " \"argv\": [\n",
      "  \"/home/user/pysparkenv/bin/python\",\n",
      "  \"-Xfrozen_modules=off\",\n",
      "  \"-m\",\n",
      "  \"ipykernel_launcher\",\n",
      "  \"-f\",\n",
      "  \"{connection_file}\"\n",
      " ],\n",
      " \"env\":{\n",
      "        \"SPARK_HOME\":\"/opt/spark\",\n",
      "        \"PYSPARK_PYTHON\":\"$HOME/pysparkenv/bin/python\"\n",
      "},\n",
      " \"display_name\": \"PySpark\",\n",
      " \"language\": \"python\",\n",
      " \"metadata\": {\n",
      "  \"debugger\": true\n",
      " }\n",
      "}\n"
     ]
    }
   ],
   "source": [
    "! cat ~/.local/share/jupyter/kernels/pysparkenv/kernel.json"
   ]
  },
  {
   "cell_type": "code",
   "execution_count": 6,
   "id": "4a5788dc-46d5-4c98-a8df-008f9f2312ec",
   "metadata": {},
   "outputs": [],
   "source": [
    "import os\n",
    "import json"
   ]
  },
  {
   "cell_type": "code",
   "execution_count": 7,
   "id": "98707f42-8559-42b4-a3d9-a99778ccf186",
   "metadata": {},
   "outputs": [],
   "source": [
    "# настройки kernel\n",
    "path = os.path.expanduser('~/.local/share/jupyter/kernels/pysparkenv/kernel.json')\n",
    "with open(path) as kernel_json:\n",
    "    kernel_data = json.load(kernel_json)"
   ]
  },
  {
   "cell_type": "code",
   "execution_count": 8,
   "id": "ad03e085-ab3c-4fbb-9423-60135b78505e",
   "metadata": {},
   "outputs": [
    {
     "data": {
      "text/plain": [
       "{'argv': ['/home/user/pysparkenv/bin/python',\n",
       "  '-Xfrozen_modules=off',\n",
       "  '-m',\n",
       "  'ipykernel_launcher',\n",
       "  '-f',\n",
       "  '{connection_file}'],\n",
       " 'env': {'SPARK_HOME': '/opt/spark',\n",
       "  'PYSPARK_PYTHON': '$HOME/pysparkenv/bin/python'},\n",
       " 'display_name': 'PySpark',\n",
       " 'language': 'python',\n",
       " 'metadata': {'debugger': True}}"
      ]
     },
     "execution_count": 8,
     "metadata": {},
     "output_type": "execute_result"
    }
   ],
   "source": [
    "kernel_data"
   ]
  },
  {
   "cell_type": "markdown",
   "id": "3d332c73-2cac-4602-8f19-1502db88485f",
   "metadata": {},
   "source": [
    "## Модули"
   ]
  },
  {
   "cell_type": "code",
   "execution_count": 9,
   "id": "e86036ad-7621-4c29-9291-9a0a0726adb4",
   "metadata": {},
   "outputs": [
    {
     "name": "stdout",
     "output_type": "stream",
     "text": [
      "Collecting pandas\n",
      "  Using cached pandas-2.3.0-cp313-cp313-manylinux_2_17_x86_64.manylinux2014_x86_64.whl.metadata (91 kB)\n",
      "Collecting numpy>=1.26.0 (from pandas)\n",
      "  Using cached numpy-2.3.1-cp313-cp313-manylinux_2_28_x86_64.whl.metadata (62 kB)\n",
      "Requirement already satisfied: python-dateutil>=2.8.2 in /home/user/pysparkenv/lib/python3.13/site-packages (from pandas) (2.9.0.post0)\n",
      "Collecting pytz>=2020.1 (from pandas)\n",
      "  Using cached pytz-2025.2-py2.py3-none-any.whl.metadata (22 kB)\n",
      "Collecting tzdata>=2022.7 (from pandas)\n",
      "  Using cached tzdata-2025.2-py2.py3-none-any.whl.metadata (1.4 kB)\n",
      "Requirement already satisfied: six>=1.5 in /home/user/pysparkenv/lib/python3.13/site-packages (from python-dateutil>=2.8.2->pandas) (1.17.0)\n",
      "Using cached pandas-2.3.0-cp313-cp313-manylinux_2_17_x86_64.manylinux2014_x86_64.whl (12.0 MB)\n",
      "Using cached numpy-2.3.1-cp313-cp313-manylinux_2_28_x86_64.whl (16.6 MB)\n",
      "Using cached pytz-2025.2-py2.py3-none-any.whl (509 kB)\n",
      "Using cached tzdata-2025.2-py2.py3-none-any.whl (347 kB)\n",
      "Installing collected packages: pytz, tzdata, numpy, pandas\n",
      "Successfully installed numpy-2.3.1 pandas-2.3.0 pytz-2025.2 tzdata-2025.2\n"
     ]
    }
   ],
   "source": [
    "# Установка pandas\n",
    "!~/pysparkenv/bin/pip install pandas "
   ]
  },
  {
   "cell_type": "code",
   "execution_count": 10,
   "id": "d9177405-aaf5-48db-bd8d-4d04ac375add",
   "metadata": {},
   "outputs": [
    {
     "name": "stdout",
     "output_type": "stream",
     "text": [
      "Requirement already satisfied: matplotlib in /home/user/pymlenv/lib/python3.13/site-packages (3.10.3)\n",
      "Requirement already satisfied: contourpy>=1.0.1 in /home/user/pymlenv/lib/python3.13/site-packages (from matplotlib) (1.3.2)\n",
      "Requirement already satisfied: cycler>=0.10 in /home/user/pymlenv/lib/python3.13/site-packages (from matplotlib) (0.12.1)\n",
      "Requirement already satisfied: fonttools>=4.22.0 in /home/user/pymlenv/lib/python3.13/site-packages (from matplotlib) (4.58.4)\n",
      "Requirement already satisfied: kiwisolver>=1.3.1 in /home/user/pymlenv/lib/python3.13/site-packages (from matplotlib) (1.4.8)\n",
      "Requirement already satisfied: numpy>=1.23 in /home/user/pymlenv/lib/python3.13/site-packages (from matplotlib) (2.3.1)\n",
      "Requirement already satisfied: packaging>=20.0 in /home/user/pymlenv/lib/python3.13/site-packages (from matplotlib) (25.0)\n",
      "Requirement already satisfied: pillow>=8 in /home/user/pymlenv/lib/python3.13/site-packages (from matplotlib) (11.2.1)\n",
      "Requirement already satisfied: pyparsing>=2.3.1 in /home/user/pymlenv/lib/python3.13/site-packages (from matplotlib) (3.2.3)\n",
      "Requirement already satisfied: python-dateutil>=2.7 in /home/user/pymlenv/lib/python3.13/site-packages (from matplotlib) (2.9.0.post0)\n",
      "Requirement already satisfied: six>=1.5 in /home/user/pymlenv/lib/python3.13/site-packages (from python-dateutil>=2.7->matplotlib) (1.17.0)\n"
     ]
    }
   ],
   "source": [
    "# Установка matplotlib\n",
    "!~/pymlenv/bin/pip install matplotlib"
   ]
  },
  {
   "cell_type": "code",
   "execution_count": 11,
   "id": "213b67f8-7ffb-46bc-948f-04cfd3b2b17e",
   "metadata": {},
   "outputs": [
    {
     "name": "stdout",
     "output_type": "stream",
     "text": [
      "Requirement already satisfied: seaborn in /home/user/pymlenv/lib/python3.13/site-packages (0.13.2)\n",
      "Requirement already satisfied: numpy!=1.24.0,>=1.20 in /home/user/pymlenv/lib/python3.13/site-packages (from seaborn) (2.3.1)\n",
      "Requirement already satisfied: pandas>=1.2 in /home/user/pymlenv/lib/python3.13/site-packages (from seaborn) (2.3.0)\n",
      "Requirement already satisfied: matplotlib!=3.6.1,>=3.4 in /home/user/pymlenv/lib/python3.13/site-packages (from seaborn) (3.10.3)\n",
      "Requirement already satisfied: contourpy>=1.0.1 in /home/user/pymlenv/lib/python3.13/site-packages (from matplotlib!=3.6.1,>=3.4->seaborn) (1.3.2)\n",
      "Requirement already satisfied: cycler>=0.10 in /home/user/pymlenv/lib/python3.13/site-packages (from matplotlib!=3.6.1,>=3.4->seaborn) (0.12.1)\n",
      "Requirement already satisfied: fonttools>=4.22.0 in /home/user/pymlenv/lib/python3.13/site-packages (from matplotlib!=3.6.1,>=3.4->seaborn) (4.58.4)\n",
      "Requirement already satisfied: kiwisolver>=1.3.1 in /home/user/pymlenv/lib/python3.13/site-packages (from matplotlib!=3.6.1,>=3.4->seaborn) (1.4.8)\n",
      "Requirement already satisfied: packaging>=20.0 in /home/user/pymlenv/lib/python3.13/site-packages (from matplotlib!=3.6.1,>=3.4->seaborn) (25.0)\n",
      "Requirement already satisfied: pillow>=8 in /home/user/pymlenv/lib/python3.13/site-packages (from matplotlib!=3.6.1,>=3.4->seaborn) (11.2.1)\n",
      "Requirement already satisfied: pyparsing>=2.3.1 in /home/user/pymlenv/lib/python3.13/site-packages (from matplotlib!=3.6.1,>=3.4->seaborn) (3.2.3)\n",
      "Requirement already satisfied: python-dateutil>=2.7 in /home/user/pymlenv/lib/python3.13/site-packages (from matplotlib!=3.6.1,>=3.4->seaborn) (2.9.0.post0)\n",
      "Requirement already satisfied: pytz>=2020.1 in /home/user/pymlenv/lib/python3.13/site-packages (from pandas>=1.2->seaborn) (2025.2)\n",
      "Requirement already satisfied: tzdata>=2022.7 in /home/user/pymlenv/lib/python3.13/site-packages (from pandas>=1.2->seaborn) (2025.2)\n",
      "Requirement already satisfied: six>=1.5 in /home/user/pymlenv/lib/python3.13/site-packages (from python-dateutil>=2.7->matplotlib!=3.6.1,>=3.4->seaborn) (1.17.0)\n"
     ]
    }
   ],
   "source": [
    "# Установка seaborn\n",
    "!~/pymlenv/bin/pip install seaborn"
   ]
  },
  {
   "cell_type": "code",
   "execution_count": null,
   "id": "cf57dde2-5d00-4375-9a62-34fd2fcb0fa2",
   "metadata": {},
   "outputs": [],
   "source": []
  }
 ],
 "metadata": {
  "kernelspec": {
   "display_name": "PySpark",
   "language": "python",
   "name": "pysparkenv"
  },
  "language_info": {
   "codemirror_mode": {
    "name": "ipython",
    "version": 3
   },
   "file_extension": ".py",
   "mimetype": "text/x-python",
   "name": "python",
   "nbconvert_exporter": "python",
   "pygments_lexer": "ipython3",
   "version": "3.13.3"
  }
 },
 "nbformat": 4,
 "nbformat_minor": 5
}
