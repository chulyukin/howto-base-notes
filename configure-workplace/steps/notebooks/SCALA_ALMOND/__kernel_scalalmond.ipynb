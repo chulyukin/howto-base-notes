{
 "cells": [
  {
   "cell_type": "markdown",
   "id": "d2f69f14-8882-4a31-b2b3-b3f0cc311dee",
   "metadata": {},
   "source": [
    "# Almond Scala"
   ]
  },
  {
   "cell_type": "markdown",
   "id": "5f2084b4-69ee-441f-9928-d040125cc8f6",
   "metadata": {},
   "source": [
    "## Версия "
   ]
  },
  {
   "cell_type": "code",
   "execution_count": 1,
   "id": "ffe34b66-4b2d-4364-9f17-3833e39fd666",
   "metadata": {},
   "outputs": [
    {
     "data": {
      "text/plain": [
       "\u001b[32mimport \u001b[39m\u001b[36mscala.sys.process._\u001b[39m"
      ]
     },
     "execution_count": 1,
     "metadata": {},
     "output_type": "execute_result"
    }
   ],
   "source": [
    "import scala.sys.process._"
   ]
  },
  {
   "cell_type": "code",
   "execution_count": 2,
   "id": "9f5e1cac-f133-453c-b503-004df757ec48",
   "metadata": {},
   "outputs": [
    {
     "name": "stderr",
     "output_type": "stream",
     "text": [
      "Scala code runner version 2.12.20 -- Copyright 2002-2024, LAMP/EPFL and Lightbend, Inc.\n"
     ]
    },
    {
     "data": {
      "text/plain": [
       "\u001b[36mres2\u001b[39m: \u001b[32mInt\u001b[39m = \u001b[32m0\u001b[39m"
      ]
     },
     "execution_count": 2,
     "metadata": {},
     "output_type": "execute_result"
    }
   ],
   "source": [
    "\"scala -version\".!"
   ]
  },
  {
   "cell_type": "markdown",
   "id": "5e766999-6047-471d-83eb-5f3cbfcd5123",
   "metadata": {},
   "source": [
    "## Kernel "
   ]
  },
  {
   "cell_type": "code",
   "execution_count": 3,
   "id": "cb50d965-a2c3-49e8-a8ff-6aaa858d9b81",
   "metadata": {},
   "outputs": [
    {
     "name": "stdout",
     "output_type": "stream",
     "text": [
      "/home/user/WORKSHOP/SCALA_ALMOND\n"
     ]
    },
    {
     "data": {
      "text/plain": [
       "\u001b[36mres3\u001b[39m: \u001b[32mInt\u001b[39m = \u001b[32m0\u001b[39m"
      ]
     },
     "execution_count": 3,
     "metadata": {},
     "output_type": "execute_result"
    }
   ],
   "source": [
    "\"pwd\".!"
   ]
  },
  {
   "cell_type": "code",
   "execution_count": 4,
   "id": "033eb24a-6f1f-4f43-b610-6287890b6f63",
   "metadata": {},
   "outputs": [
    {
     "name": "stdout",
     "output_type": "stream",
     "text": [
      "Available kernels:\n",
      "  python3       /home/user/mainenv/share/jupyter/kernels/python3\n",
      "  pydevenv      /home/user/.local/share/jupyter/kernels/pydevenv\n",
      "  pymlenv       /home/user/.local/share/jupyter/kernels/pymlenv\n",
      "  pysparkenv    /home/user/.local/share/jupyter/kernels/pysparkenv\n",
      "  pytorchenv    /home/user/.local/share/jupyter/kernels/pytorchenv\n",
      "  scala         /home/user/.local/share/jupyter/kernels/scala\n"
     ]
    },
    {
     "data": {
      "text/plain": [
       "\u001b[36mres4\u001b[39m: \u001b[32mInt\u001b[39m = \u001b[32m0\u001b[39m"
      ]
     },
     "execution_count": 4,
     "metadata": {},
     "output_type": "execute_result"
    }
   ],
   "source": [
    "\"jupyter kernelspec list\".!"
   ]
  },
  {
   "cell_type": "code",
   "execution_count": 5,
   "id": "eb1f9dfb-33e4-4c49-885f-e258bad7fe7f",
   "metadata": {},
   "outputs": [
    {
     "data": {
      "text/plain": [
       "\u001b[36mhome\u001b[39m: \u001b[32mString\u001b[39m = \u001b[32m\"/home/user\"\u001b[39m\n",
       "\u001b[36mres5_1\u001b[39m: \u001b[32mString\u001b[39m = \u001b[32m\"\"\"kernel.json\n",
       "launcher.jar\n",
       "logo-64x64.png\n",
       "\"\"\"\u001b[39m"
      ]
     },
     "execution_count": 5,
     "metadata": {},
     "output_type": "execute_result"
    }
   ],
   "source": [
    "val home = System.getenv(\"HOME\")\n",
    "s\"ls $home/.local/share/jupyter/kernels/scala\".!!"
   ]
  },
  {
   "cell_type": "code",
   "execution_count": 6,
   "id": "adb8b218-9ec5-410f-aff1-cff53433fd79",
   "metadata": {},
   "outputs": [
    {
     "name": "stdout",
     "output_type": "stream",
     "text": [
      "{\n",
      "  \"argv\": [\n",
      "    \"java\",\n",
      "    \"-cp\",\n",
      "    \"/home/user/.local/share/jupyter/kernels/scala/launcher.jar\",\n",
      "    \"coursier.bootstrap.launcher.Launcher\",\n",
      "    \"--connection-file\",\n",
      "    \"{connection_file}\"\n",
      "  ],\n",
      "  \"display_name\": \"Scala\",\n",
      "  \"language\": \"scala\"\n",
      "}"
     ]
    },
    {
     "data": {
      "text/plain": [
       "\u001b[36mres6\u001b[39m: \u001b[32mInt\u001b[39m = \u001b[32m0\u001b[39m"
      ]
     },
     "execution_count": 6,
     "metadata": {},
     "output_type": "execute_result"
    }
   ],
   "source": [
    "s\"cat $home/.local/share/jupyter/kernels/scala/kernel.json\".!"
   ]
  },
  {
   "cell_type": "code",
   "execution_count": 7,
   "id": "009654a3-3ca5-4dd4-a3af-ea113b929557",
   "metadata": {},
   "outputs": [
    {
     "name": "stderr",
     "output_type": "stream",
     "text": [
      "Downloading https://repo1.maven.org/maven2/com/lihaoyi/upickle_2.12/3.3.1/upickle_2.12-3.3.1.pom\n",
      "Downloaded https://repo1.maven.org/maven2/com/lihaoyi/upickle_2.12/3.3.1/upickle_2.12-3.3.1.pom\n",
      "Downloading https://repo1.maven.org/maven2/com/lihaoyi/ujson_2.12/3.3.1/ujson_2.12-3.3.1.pom\n",
      "Downloading https://repo1.maven.org/maven2/com/lihaoyi/upack_2.12/3.3.1/upack_2.12-3.3.1.pom\n",
      "Downloading https://repo1.maven.org/maven2/com/lihaoyi/upickle-implicits_2.12/3.3.1/upickle-implicits_2.12-3.3.1.pom\n",
      "Downloaded https://repo1.maven.org/maven2/com/lihaoyi/ujson_2.12/3.3.1/ujson_2.12-3.3.1.pom\n",
      "Downloaded https://repo1.maven.org/maven2/com/lihaoyi/upack_2.12/3.3.1/upack_2.12-3.3.1.pom\n",
      "Downloaded https://repo1.maven.org/maven2/com/lihaoyi/upickle-implicits_2.12/3.3.1/upickle-implicits_2.12-3.3.1.pom\n",
      "Downloading https://repo1.maven.org/maven2/com/lihaoyi/upickle-core_2.12/3.3.1/upickle-core_2.12-3.3.1.pom\n",
      "Downloaded https://repo1.maven.org/maven2/com/lihaoyi/upickle-core_2.12/3.3.1/upickle-core_2.12-3.3.1.pom\n"
     ]
    },
    {
     "data": {
      "text/plain": [
       "\u001b[32mimport \u001b[39m\u001b[36m$ivy.$\u001b[39m\n",
       "\u001b[32mimport \u001b[39m\u001b[36mupickle.default._\u001b[39m"
      ]
     },
     "execution_count": 7,
     "metadata": {},
     "output_type": "execute_result"
    }
   ],
   "source": [
    "import $ivy.`com.lihaoyi::upickle:3.3.1`\n",
    "import upickle.default._"
   ]
  },
  {
   "cell_type": "code",
   "execution_count": 8,
   "id": "e696c441-d7ac-4656-b3e7-771d268fe7b1",
   "metadata": {},
   "outputs": [
    {
     "data": {
      "text/plain": [
       "\u001b[32mimport \u001b[39m\u001b[36mscala.io.Source._\u001b[39m"
      ]
     },
     "execution_count": 8,
     "metadata": {},
     "output_type": "execute_result"
    }
   ],
   "source": [
    "import scala.io.Source._"
   ]
  },
  {
   "cell_type": "code",
   "execution_count": 9,
   "id": "7c64b511-7fbd-403a-ae9c-ee747c9f8bd5",
   "metadata": {},
   "outputs": [
    {
     "data": {
      "text/plain": [
       "\u001b[36mjsonS\u001b[39m: \u001b[32mString\u001b[39m = \u001b[32m\"{  \\\"argv\\\": [    \\\"java\\\",    \\\"-cp\\\",    \\\"/home/user/.local/share/jupyter/kernels/scala/launcher.jar\\\",    \\\"coursier.bootstrap.launcher.Launcher\\\",    \\\"--connection-file\\\",    \\\"{connection_file}\\\"  ],  \\\"display_name\\\": \\\"Scala\\\",  \\\"language\\\": \\\"scala\\\"}\"\u001b[39m\n",
       "\u001b[36mjsonData\u001b[39m: \u001b[32mujson\u001b[39m.\u001b[32mValue\u001b[39m.\u001b[32mValue\u001b[39m = \u001b[33mObj\u001b[39m(\n",
       "  \u001b[33mMap\u001b[39m(\n",
       "    \u001b[32m\"argv\"\u001b[39m -> \u001b[33mArr\u001b[39m(\n",
       "      \u001b[33mArrayBuffer\u001b[39m(\n",
       "        \u001b[33mStr\u001b[39m(\u001b[32m\"java\"\u001b[39m),\n",
       "        \u001b[33mStr\u001b[39m(\u001b[32m\"-cp\"\u001b[39m),\n",
       "        \u001b[33mStr\u001b[39m(\u001b[32m\"/home/user/.local/share/jupyter/kernels/scala/launcher.jar\"\u001b[39m),\n",
       "        \u001b[33mStr\u001b[39m(\u001b[32m\"coursier.bootstrap.launcher.Launcher\"\u001b[39m),\n",
       "        \u001b[33mStr\u001b[39m(\u001b[32m\"--connection-file\"\u001b[39m),\n",
       "        \u001b[33mStr\u001b[39m(\u001b[32m\"{connection_file}\"\u001b[39m)\n",
       "      )\n",
       "    ),\n",
       "    \u001b[32m\"display_name\"\u001b[39m -> \u001b[33mStr\u001b[39m(\u001b[32m\"Scala\"\u001b[39m),\n",
       "    \u001b[32m\"language\"\u001b[39m -> \u001b[33mStr\u001b[39m(\u001b[32m\"scala\"\u001b[39m)\n",
       "  )\n",
       ")"
      ]
     },
     "execution_count": 9,
     "metadata": {},
     "output_type": "execute_result"
    }
   ],
   "source": [
    "val jsonS = fromFile(s\"$home/.local/share/jupyter/kernels/scala/kernel.json\").getLines.mkString\n",
    "val jsonData = ujson.read(jsonS)"
   ]
  },
  {
   "cell_type": "code",
   "execution_count": 10,
   "id": "7fac2584-f6d9-41b9-aa9b-6555e261fe20",
   "metadata": {},
   "outputs": [
    {
     "data": {
      "text/plain": [
       "\u001b[36mres10\u001b[39m: \u001b[32mujson\u001b[39m.\u001b[32mValue\u001b[39m.\u001b[32mValue\u001b[39m = \u001b[33mObj\u001b[39m(\n",
       "  \u001b[33mMap\u001b[39m(\n",
       "    \u001b[32m\"argv\"\u001b[39m -> \u001b[33mArr\u001b[39m(\n",
       "      \u001b[33mArrayBuffer\u001b[39m(\n",
       "        \u001b[33mStr\u001b[39m(\u001b[32m\"java\"\u001b[39m),\n",
       "        \u001b[33mStr\u001b[39m(\u001b[32m\"-cp\"\u001b[39m),\n",
       "        \u001b[33mStr\u001b[39m(\u001b[32m\"/home/user/.local/share/jupyter/kernels/scala/launcher.jar\"\u001b[39m),\n",
       "        \u001b[33mStr\u001b[39m(\u001b[32m\"coursier.bootstrap.launcher.Launcher\"\u001b[39m),\n",
       "        \u001b[33mStr\u001b[39m(\u001b[32m\"--connection-file\"\u001b[39m),\n",
       "        \u001b[33mStr\u001b[39m(\u001b[32m\"{connection_file}\"\u001b[39m)\n",
       "      )\n",
       "    ),\n",
       "    \u001b[32m\"display_name\"\u001b[39m -> \u001b[33mStr\u001b[39m(\u001b[32m\"Scala\"\u001b[39m),\n",
       "    \u001b[32m\"language\"\u001b[39m -> \u001b[33mStr\u001b[39m(\u001b[32m\"scala\"\u001b[39m)\n",
       "  )\n",
       ")"
      ]
     },
     "execution_count": 10,
     "metadata": {},
     "output_type": "execute_result"
    }
   ],
   "source": [
    "jsonData"
   ]
  },
  {
   "cell_type": "code",
   "execution_count": null,
   "id": "a925c926-e64f-458a-b97f-4d09d82b09ad",
   "metadata": {},
   "outputs": [],
   "source": []
  }
 ],
 "metadata": {
  "kernelspec": {
   "display_name": "Scala",
   "language": "scala",
   "name": "scala"
  },
  "language_info": {
   "codemirror_mode": "text/x-scala",
   "file_extension": ".sc",
   "mimetype": "text/x-scala",
   "name": "scala",
   "nbconvert_exporter": "script",
   "version": "2.12.20"
  }
 },
 "nbformat": 4,
 "nbformat_minor": 5
}
