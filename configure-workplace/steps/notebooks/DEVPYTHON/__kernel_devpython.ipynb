{
 "cells": [
  {
   "cell_type": "markdown",
   "id": "d2f69f14-8882-4a31-b2b3-b3f0cc311dee",
   "metadata": {},
   "source": [
    "# DevPython 3.1x"
   ]
  },
  {
   "cell_type": "markdown",
   "id": "5f2084b4-69ee-441f-9928-d040125cc8f6",
   "metadata": {},
   "source": [
    "## Версия "
   ]
  },
  {
   "cell_type": "code",
   "execution_count": 1,
   "id": "9f5e1cac-f133-453c-b503-004df757ec48",
   "metadata": {},
   "outputs": [
    {
     "name": "stdout",
     "output_type": "stream",
     "text": [
      "Python 3.13.3\n"
     ]
    }
   ],
   "source": [
    "!python3 --version"
   ]
  },
  {
   "cell_type": "code",
   "execution_count": 2,
   "id": "0a69b806-f111-4a83-94cf-d258457b8d25",
   "metadata": {},
   "outputs": [
    {
     "name": "stdout",
     "output_type": "stream",
     "text": [
      "Python 3.13.3\n"
     ]
    }
   ],
   "source": [
    "!~/pydevenv/bin/python3 --version"
   ]
  },
  {
   "cell_type": "markdown",
   "id": "5e766999-6047-471d-83eb-5f3cbfcd5123",
   "metadata": {},
   "source": [
    "## Kernel "
   ]
  },
  {
   "cell_type": "code",
   "execution_count": 3,
   "id": "cb50d965-a2c3-49e8-a8ff-6aaa858d9b81",
   "metadata": {},
   "outputs": [
    {
     "name": "stdout",
     "output_type": "stream",
     "text": [
      "/home/user/WORKSHOP/DEVPYTHON\n"
     ]
    }
   ],
   "source": [
    "!pwd"
   ]
  },
  {
   "cell_type": "code",
   "execution_count": 4,
   "id": "033eb24a-6f1f-4f43-b610-6287890b6f63",
   "metadata": {},
   "outputs": [
    {
     "name": "stdout",
     "output_type": "stream",
     "text": [
      "Available kernels:\n",
      "  python3     /home/user/mainenv/share/jupyter/kernels/python3\n",
      "  pydevenv    /home/user/.local/share/jupyter/kernels/pydevenv\n"
     ]
    }
   ],
   "source": [
    "!jupyter kernelspec list"
   ]
  },
  {
   "cell_type": "code",
   "execution_count": 5,
   "id": "adb8b218-9ec5-410f-aff1-cff53433fd79",
   "metadata": {},
   "outputs": [
    {
     "name": "stdout",
     "output_type": "stream",
     "text": [
      "{\n",
      " \"argv\": [\n",
      "  \"/home/user/pydevenv/bin/python\",\n",
      "  \"-Xfrozen_modules=off\",\n",
      "  \"-m\",\n",
      "  \"ipykernel_launcher\",\n",
      "  \"-f\",\n",
      "  \"{connection_file}\"\n",
      " ],\n",
      " \"display_name\": \"DevPython 3.1x\",\n",
      " \"language\": \"python\",\n",
      " \"metadata\": {\n",
      "  \"debugger\": true\n",
      " }\n",
      "}"
     ]
    }
   ],
   "source": [
    "! cat ~/.local/share/jupyter/kernels/pydevenv/kernel.json"
   ]
  },
  {
   "cell_type": "code",
   "execution_count": 6,
   "id": "e7acddde-cf47-4ddb-9ab8-f843f0dcb082",
   "metadata": {},
   "outputs": [],
   "source": [
    "import os\n",
    "import json"
   ]
  },
  {
   "cell_type": "code",
   "execution_count": 7,
   "id": "fc4060ed-bb24-4511-8e5e-c28241a8238d",
   "metadata": {},
   "outputs": [],
   "source": [
    "# настройки kernel\n",
    "path = os.path.expanduser('~/.local/share/jupyter/kernels/pydevenv/kernel.json')\n",
    "with open(path) as kernel_json:\n",
    "    kernel_data = json.load(kernel_json)"
   ]
  },
  {
   "cell_type": "code",
   "execution_count": 8,
   "id": "7fac2584-f6d9-41b9-aa9b-6555e261fe20",
   "metadata": {},
   "outputs": [
    {
     "data": {
      "text/plain": [
       "{'argv': ['/home/user/pydevenv/bin/python',\n",
       "  '-Xfrozen_modules=off',\n",
       "  '-m',\n",
       "  'ipykernel_launcher',\n",
       "  '-f',\n",
       "  '{connection_file}'],\n",
       " 'display_name': 'DevPython 3.1x',\n",
       " 'language': 'python',\n",
       " 'metadata': {'debugger': True}}"
      ]
     },
     "execution_count": 8,
     "metadata": {},
     "output_type": "execute_result"
    }
   ],
   "source": [
    "kernel_data"
   ]
  },
  {
   "cell_type": "markdown",
   "id": "5c7d767d-f7db-4a6a-90e4-a744f54bd7b0",
   "metadata": {},
   "source": [
    "## Модули"
   ]
  },
  {
   "cell_type": "code",
   "execution_count": 9,
   "id": "923daa71-7584-4b34-9a08-74ec3b1ffc54",
   "metadata": {},
   "outputs": [],
   "source": [
    "# Уже устновлены pandas и fastparquet\n",
    "import pandas as pd"
   ]
  }
 ],
 "metadata": {
  "kernelspec": {
   "display_name": "DevPython 3.1x",
   "language": "python",
   "name": "pydevenv"
  },
  "language_info": {
   "codemirror_mode": {
    "name": "ipython",
    "version": 3
   },
   "file_extension": ".py",
   "mimetype": "text/x-python",
   "name": "python",
   "nbconvert_exporter": "python",
   "pygments_lexer": "ipython3",
   "version": "3.13.3"
  }
 },
 "nbformat": 4,
 "nbformat_minor": 5
}
