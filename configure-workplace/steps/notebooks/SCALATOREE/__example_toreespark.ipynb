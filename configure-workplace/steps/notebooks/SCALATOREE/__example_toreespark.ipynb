{
 "cells": [
  {
   "cell_type": "markdown",
   "id": "766ffbf8-2651-4fcf-ae56-773aadea1b34",
   "metadata": {},
   "source": [
    "# Spark 3"
   ]
  },
  {
   "cell_type": "code",
   "execution_count": 1,
   "id": "a8052b1d-96ba-4829-b59a-cf83472c8e8b",
   "metadata": {},
   "outputs": [
    {
     "data": {
      "text/plain": [
       "warning: one deprecation; for details, enable `:setting -deprecation' or `:replay -deprecation'\n"
      ]
     },
     "metadata": {},
     "output_type": "display_data",
     "source": "user"
    }
   ],
   "source": [
    "System.setSecurityManager(null)"
   ]
  },
  {
   "cell_type": "code",
   "execution_count": 2,
   "id": "f8cc2140-1766-48b4-9661-d0e1cbfc18ab",
   "metadata": {},
   "outputs": [],
   "source": [
    "import org.apache.spark.sql.SparkSession"
   ]
  },
  {
   "cell_type": "code",
   "execution_count": 3,
   "id": "a8641fa9-d082-431b-b95c-b9f5f5a8ec41",
   "metadata": {},
   "outputs": [
    {
     "data": {
      "text/plain": [
       "warehouseDir = warehouse\n",
       "spark = org.apache.spark.sql.SparkSession@4a0d7ab1\n"
      ]
     },
     "metadata": {},
     "output_type": "display_data",
     "source": "user"
    },
    {
     "data": {
      "text/plain": [
       "org.apache.spark.sql.SparkSession@4a0d7ab1"
      ]
     },
     "execution_count": 3,
     "metadata": {},
     "output_type": "execute_result"
    }
   ],
   "source": [
    "val warehouseDir = \"warehouse\"\n",
    "val spark = SparkSession.builder()\n",
    "            .appName(\"My custom Spark\")\n",
    "            .master(\"local[2]\")\n",
    "            .config(\"spark.executer.memory\", \"4g\")\n",
    "            .config(\"spark.driver.memory\", \"2g\")\n",
    "            .config(\"spark.driver.extraJavaOptions\",\"-Derby.system.home=/tmp/derby\")\n",
    "            .config(\"spark.sql.warehouse.dir\", warehouseDir)\n",
    "            .config(\"spark.sql.catalogImplementation\", \"hive\")\n",
    "            .config(\"javx.jdo.option.ConnectionURL\",s\"jdbc:derby:;dtatbaseName=$warehouseDir/metasore_db;create=true\")\n",
    "            .config(\"datanucleus.schema.autoCreateAll\", \"true\")\n",
    "            .enableHiveSupport()\n",
    "            .getOrCreate()"
   ]
  },
  {
   "cell_type": "code",
   "execution_count": 4,
   "id": "0ae5fe9a-198d-41a1-b6bf-ffcc411af8bf",
   "metadata": {},
   "outputs": [
    {
     "data": {
      "text/plain": [
       "3.5.6"
      ]
     },
     "execution_count": 4,
     "metadata": {},
     "output_type": "execute_result"
    }
   ],
   "source": [
    "spark.version"
   ]
  },
  {
   "cell_type": "code",
   "execution_count": 5,
   "id": "a8011082-093a-466c-a98e-d9d0a9f005ac",
   "metadata": {},
   "outputs": [
    {
     "data": {
      "text/plain": [
       "http://10.0.2.15:4040"
      ]
     },
     "execution_count": 5,
     "metadata": {},
     "output_type": "execute_result"
    }
   ],
   "source": [
    "spark.sparkContext.uiWebUrl.get"
   ]
  },
  {
   "cell_type": "code",
   "execution_count": 6,
   "id": "c13323eb-dc63-4600-8982-86e9a062edff",
   "metadata": {},
   "outputs": [
    {
     "name": "stdout",
     "output_type": "stream",
     "text": [
      "Hello toree\n"
     ]
    }
   ],
   "source": [
    "println(\"Hello toree\")"
   ]
  },
  {
   "cell_type": "markdown",
   "id": "9072d64d-ec57-4915-9761-3a0cad81c88e",
   "metadata": {},
   "source": [
    "# Example DataFrame"
   ]
  },
  {
   "cell_type": "code",
   "execution_count": 7,
   "id": "98d3b489-c434-4713-8c3f-dae0bef02c93",
   "metadata": {},
   "outputs": [
    {
     "name": "stdout",
     "output_type": "stream",
     "text": [
      "+-----+\n",
      "|value|\n",
      "+-----+\n",
      "|    0|\n",
      "|    1|\n",
      "|    2|\n",
      "|    3|\n",
      "|    4|\n",
      "|    5|\n",
      "|    6|\n",
      "|    7|\n",
      "|    8|\n",
      "|    9|\n",
      "+-----+\n",
      "\n"
     ]
    },
    {
     "data": {
      "text/plain": [
       "df = [value: int]\n"
      ]
     },
     "metadata": {},
     "output_type": "display_data",
     "source": "user"
    },
    {
     "data": {
      "text/plain": [
       "[value: int]"
      ]
     },
     "execution_count": 7,
     "metadata": {},
     "output_type": "execute_result"
    }
   ],
   "source": [
    "val df = Range(0, 10).toDF\n",
    "df.show"
   ]
  },
  {
   "cell_type": "code",
   "execution_count": 8,
   "id": "2a35bc8d-903c-408b-a378-e3f05aae138c",
   "metadata": {},
   "outputs": [
    {
     "name": "stdout",
     "output_type": "stream",
     "text": [
      "+---------+\n",
      "|namespace|\n",
      "+---------+\n",
      "|default  |\n",
      "|my_db    |\n",
      "+---------+\n",
      "\n"
     ]
    }
   ],
   "source": [
    "spark.sql(\"show databases\").show(truncate = false)"
   ]
  },
  {
   "cell_type": "code",
   "execution_count": 9,
   "id": "1f81738f-c27a-4c1a-9feb-f22025c22e6f",
   "metadata": {},
   "outputs": [
    {
     "data": {
      "text/plain": [
       "[]"
      ]
     },
     "execution_count": 9,
     "metadata": {},
     "output_type": "execute_result"
    }
   ],
   "source": [
    "spark.sql(\"drop database if exists my_db cascade\")\n",
    "spark.sql(\"create database my_db\")"
   ]
  },
  {
   "cell_type": "code",
   "execution_count": 10,
   "id": "e10bdfe6-7261-48ef-9e22-1c91d3520baa",
   "metadata": {},
   "outputs": [
    {
     "name": "stdout",
     "output_type": "stream",
     "text": [
      "+---------+\n",
      "|namespace|\n",
      "+---------+\n",
      "|default  |\n",
      "|my_db    |\n",
      "+---------+\n",
      "\n"
     ]
    }
   ],
   "source": [
    "spark.sql(\"show databases\").show(truncate = false)"
   ]
  },
  {
   "cell_type": "code",
   "execution_count": 11,
   "id": "a69d412d-e1f8-4809-a2ca-d2327a727ce9",
   "metadata": {},
   "outputs": [],
   "source": [
    "df.write.format(\"parquet\").mode(\"overwrite\").saveAsTable(\"default.my_table\")"
   ]
  },
  {
   "cell_type": "code",
   "execution_count": 12,
   "id": "bdae6f85-c483-4f9e-a7e5-30281e62ee2c",
   "metadata": {},
   "outputs": [],
   "source": [
    "df.write.format(\"parquet\").mode(\"overwrite\").saveAsTable(\"my_db.new_my_table\")"
   ]
  },
  {
   "cell_type": "code",
   "execution_count": 13,
   "id": "864b6a55-6725-46f8-a9ef-b57267ca5f77",
   "metadata": {},
   "outputs": [
    {
     "data": {
      "text/plain": [
       "df2 = [value: int]\n"
      ]
     },
     "metadata": {},
     "output_type": "display_data",
     "source": "user"
    },
    {
     "data": {
      "text/plain": [
       "[value: int]"
      ]
     },
     "execution_count": 13,
     "metadata": {},
     "output_type": "execute_result"
    }
   ],
   "source": [
    "val df2 = spark.table(\"default.my_table\")"
   ]
  },
  {
   "cell_type": "code",
   "execution_count": 14,
   "id": "0e7a0ace-2766-4f31-a754-800b1b42b2f8",
   "metadata": {},
   "outputs": [
    {
     "name": "stdout",
     "output_type": "stream",
     "text": [
      "+-----+\n",
      "|value|\n",
      "+-----+\n",
      "|5    |\n",
      "|6    |\n",
      "|7    |\n",
      "|8    |\n",
      "|9    |\n",
      "|0    |\n",
      "|1    |\n",
      "|2    |\n",
      "|3    |\n",
      "|4    |\n",
      "+-----+\n",
      "\n"
     ]
    }
   ],
   "source": [
    "df2.show(truncate = false)"
   ]
  },
  {
   "cell_type": "code",
   "execution_count": 15,
   "id": "66ef0765-a1e9-451e-9cf3-7468852cff7d",
   "metadata": {},
   "outputs": [
    {
     "data": {
      "text/plain": [
       "df3 = [value: int]\n"
      ]
     },
     "metadata": {},
     "output_type": "display_data",
     "source": "user"
    },
    {
     "data": {
      "text/plain": [
       "[value: int]"
      ]
     },
     "execution_count": 15,
     "metadata": {},
     "output_type": "execute_result"
    }
   ],
   "source": [
    "val df3 = spark.table(\"my_db.new_my_table\")"
   ]
  },
  {
   "cell_type": "code",
   "execution_count": 16,
   "id": "661e6ac1-448e-4e5c-b96a-7d6b4f6b6e23",
   "metadata": {},
   "outputs": [
    {
     "name": "stdout",
     "output_type": "stream",
     "text": [
      "+-----+\n",
      "|value|\n",
      "+-----+\n",
      "|5    |\n",
      "|6    |\n",
      "|7    |\n",
      "|8    |\n",
      "|9    |\n",
      "|0    |\n",
      "|1    |\n",
      "|2    |\n",
      "|3    |\n",
      "|4    |\n",
      "+-----+\n",
      "\n"
     ]
    }
   ],
   "source": [
    "df3.show(truncate = false)"
   ]
  },
  {
   "cell_type": "code",
   "execution_count": 17,
   "id": "df5f63ee-1f20-48b7-91b7-b4c24e14c44f",
   "metadata": {},
   "outputs": [],
   "source": [
    "spark.stop()"
   ]
  },
  {
   "cell_type": "code",
   "execution_count": null,
   "id": "cb2b7337-5b35-46ee-9046-68e70f86d505",
   "metadata": {},
   "outputs": [],
   "source": []
  }
 ],
 "metadata": {
  "kernelspec": {
   "display_name": "Apache Toree - Scala",
   "language": "scala",
   "name": "apache_toree_scala"
  },
  "language_info": {
   "codemirror_mode": "text/x-scala",
   "file_extension": ".scala",
   "mimetype": "text/x-scala",
   "name": "scala",
   "pygments_lexer": "scala",
   "version": "2.12.15"
  }
 },
 "nbformat": 4,
 "nbformat_minor": 5
}
