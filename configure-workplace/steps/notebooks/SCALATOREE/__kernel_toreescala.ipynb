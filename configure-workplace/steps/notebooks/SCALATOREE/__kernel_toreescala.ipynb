{
 "cells": [
  {
   "cell_type": "markdown",
   "id": "d2f69f14-8882-4a31-b2b3-b3f0cc311dee",
   "metadata": {},
   "source": [
    "# Apache Toree - Scala"
   ]
  },
  {
   "cell_type": "markdown",
   "id": "5f2084b4-69ee-441f-9928-d040125cc8f6",
   "metadata": {},
   "source": [
    "## Версия "
   ]
  },
  {
   "cell_type": "code",
   "execution_count": 1,
   "id": "9f5e1cac-f133-453c-b503-004df757ec48",
   "metadata": {},
   "outputs": [],
   "source": [
    "import scala.sys.process._"
   ]
  },
  {
   "cell_type": "code",
   "execution_count": 2,
   "id": "0a69b806-f111-4a83-94cf-d258457b8d25",
   "metadata": {},
   "outputs": [
    {
     "name": "stdout",
     "output_type": "stream",
     "text": [
      "Scala code runner version 2.12.20 -- Copyright 2002-2024, LAMP/EPFL and Lightbend, Inc.\n"
     ]
    },
    {
     "data": {
      "text/plain": [
       "0"
      ]
     },
     "execution_count": 2,
     "metadata": {},
     "output_type": "execute_result"
    }
   ],
   "source": [
    "\"scala -version\".!"
   ]
  },
  {
   "cell_type": "markdown",
   "id": "5e766999-6047-471d-83eb-5f3cbfcd5123",
   "metadata": {},
   "source": [
    "## Kernel "
   ]
  },
  {
   "cell_type": "code",
   "execution_count": 3,
   "id": "cb50d965-a2c3-49e8-a8ff-6aaa858d9b81",
   "metadata": {},
   "outputs": [
    {
     "name": "stdout",
     "output_type": "stream",
     "text": [
      "/home/user/WORKSHOP/SCALA_TOREE\n"
     ]
    },
    {
     "data": {
      "text/plain": [
       "0"
      ]
     },
     "execution_count": 3,
     "metadata": {},
     "output_type": "execute_result"
    }
   ],
   "source": [
    "\"pwd\".!"
   ]
  },
  {
   "cell_type": "code",
   "execution_count": 4,
   "id": "033eb24a-6f1f-4f43-b610-6287890b6f63",
   "metadata": {},
   "outputs": [
    {
     "name": "stdout",
     "output_type": "stream",
     "text": [
      "Available kernels:\n",
      "  python3               /home/user/mainenv/share/jupyter/kernels/python3\n",
      "  apache_toree_scala    /home/user/.local/share/jupyter/kernels/apache_toree_scala\n",
      "  pydevenv              /home/user/.local/share/jupyter/kernels/pydevenv\n",
      "  pymlenv               /home/user/.local/share/jupyter/kernels/pymlenv\n",
      "  pysparkenv            /home/user/.local/share/jupyter/kernels/pysparkenv\n",
      "  pytorchenv            /home/user/.local/share/jupyter/kernels/pytorchenv\n",
      "  scala                 /home/user/.local/share/jupyter/kernels/scala\n"
     ]
    },
    {
     "data": {
      "text/plain": [
       "0"
      ]
     },
     "execution_count": 4,
     "metadata": {},
     "output_type": "execute_result"
    }
   ],
   "source": [
    "\"jupyter kernelspec list\".!"
   ]
  },
  {
   "cell_type": "code",
   "execution_count": 5,
   "id": "adb8b218-9ec5-410f-aff1-cff53433fd79",
   "metadata": {},
   "outputs": [
    {
     "data": {
      "text/plain": [
       "home = /home/user\n"
      ]
     },
     "metadata": {},
     "output_type": "display_data",
     "source": "user"
    },
    {
     "data": {
      "text/plain": [
       "\"kernel.json\n",
       "launcher.jar\n",
       "logo-64x64.png\n",
       "\"\n"
      ]
     },
     "metadata": {},
     "output_type": "display_data",
     "source": "user"
    }
   ],
   "source": [
    "val home = System.getenv(\"HOME\")\n",
    "s\"ls $home/.local/share/jupyter/kernels/scala\".!!"
   ]
  },
  {
   "cell_type": "code",
   "execution_count": 6,
   "id": "42b22bba-9f9b-4b76-93c7-6f8c2148f063",
   "metadata": {},
   "outputs": [
    {
     "name": "stdout",
     "output_type": "stream",
     "text": [
      "{\n",
      "  \"argv\": [\n",
      "    \"/home/user/.local/share/jupyter/kernels/apache_toree_scala/bin/run.sh\",\n",
      "    \"--profile\",\n",
      "    \"{connection_file}\"\n",
      "  ],\n",
      "  \"env\": {\n",
      "    \"DEFAULT_INTERPRETER\": \"Scala\",\n",
      "    \"__TOREE_SPARK_OPTS__\": \"\",\n",
      "    \"__TOREE_OPTS__\": \"\",\n",
      "    \"SPARK_HOME\": \"/opt/spark\"\n",
      "  },\n",
      "  \"display_name\": \"Apache Toree - Scala\",\n",
      "  \"language\": \"scala\",\n",
      "  \"interrupt_mode\": \"signal\",\n",
      "  \"metadata\": {}\n",
      "}"
     ]
    },
    {
     "data": {
      "text/plain": [
       "0"
      ]
     },
     "execution_count": 6,
     "metadata": {},
     "output_type": "execute_result"
    }
   ],
   "source": [
    "s\"cat $home/.local/share/jupyter/kernels/apache_toree_scala/kernel.json\".!"
   ]
  },
  {
   "cell_type": "raw",
   "id": "3fc49916-21bc-4ec1-ab03-e2d19657a4a3",
   "metadata": {},
   "source": [
    "val jarPath = \"upickle_2.12-4.1.0.jar\"\n",
    "sc.addJar(jarPath)"
   ]
  },
  {
   "cell_type": "raw",
   "id": "880968ab-fc4c-4ded-922f-875ec9913d52",
   "metadata": {},
   "source": [
    "import upickle.default._"
   ]
  },
  {
   "cell_type": "code",
   "execution_count": 7,
   "id": "f580660e-a5ed-48d3-9d8d-8c5123a93152",
   "metadata": {},
   "outputs": [],
   "source": [
    "import com.fasterxml.jackson.databind.ObjectMapper\n",
    "import java.io.File\n",
    "import scala.io.Source._"
   ]
  },
  {
   "cell_type": "code",
   "execution_count": 8,
   "id": "cc6c8758-4955-4e8f-b6a5-4bc96ad15d1f",
   "metadata": {},
   "outputs": [
    {
     "name": "stdout",
     "output_type": "stream",
     "text": [
      "{\"argv\":[\"/home/user/.local/share/jupyter/kernels/apache_toree_scala/bin/run.sh\",\"--profile\",\"{connection_file}\"],\"env\":{\"DEFAULT_INTERPRETER\":\"Scala\",\"__TOREE_SPARK_OPTS__\":\"\",\"__TOREE_OPTS__\":\"\",\"SPARK_HOME\":\"/opt/spark\"},\"display_name\":\"Apache Toree - Scala\",\"language\":\"scala\",\"interrupt_mode\":\"signal\",\"metadata\":{}}\n"
     ]
    },
    {
     "data": {
      "text/plain": [
       "jsonS = {  \"argv\": [    \"/home/user/.local/share/jupyter/kernels/apache_toree_scala/bin/run.sh\",    \"--profile\",    \"{connection_file}\"  ],  \"env\": {    \"DEFAULT_INTERPRETER\": \"Scala\",    \"__TOREE_SPARK_OPTS__\": \"\",    \"__TOREE_OPTS__\": \"\",    \"SPARK_HOME\": \"/opt/spark\"  },  \"display_name\": \"Apache Toree - Scala\",  \"language\": \"scala\",  \"interrupt_mode\": \"signal\",  \"metadata\": {}}\n",
       "mapper = com.fasterxml.jackson.databind.ObjectMapper@1c521a2d\n",
       "jsonObject = {\"argv\":[\"/home/user/.local/share/jupyter/kernels/apache_toree_scala/bin/run.sh\",\"--profile\",\"{connection_file}\"],\"env\":{\"DEFAULT_INTERPRETER\":\"Scala\",\"__TOREE_SPARK_OPTS__\":\"\",\"__TOREE_OPTS__\":\"\",\"SPARK_HOME\":\"/opt/spark\"},\"display_name\":\"Apac...\n"
      ]
     },
     "metadata": {},
     "output_type": "display_data",
     "source": "user"
    },
    {
     "data": {
      "text/plain": [
       "{\"argv\":[\"/home/user/.local/share/jupyter/kernels/apache_toree_scala/bin/run.sh\",\"--profile\",\"{connection_file}\"],\"env\":{\"DEFAULT_INTERPRETER\":\"Scala\",\"__TOREE_SPARK_OPTS__\":\"\",\"__TOREE_OPTS__\":\"\",\"SPARK_HOME\":\"/opt/spark\"},\"display_name\":\"Apac..."
      ]
     },
     "execution_count": 8,
     "metadata": {},
     "output_type": "execute_result"
    }
   ],
   "source": [
    "val jsonS = fromFile(s\"$home/.local/share/jupyter/kernels/apache_toree_scala/kernel.json\").getLines.mkString\n",
    "val mapper = new ObjectMapper()\n",
    "val jsonObject = mapper.readTree(jsonS)\n",
    "println(jsonObject)"
   ]
  },
  {
   "cell_type": "code",
   "execution_count": 9,
   "id": "b89a359d-1a09-4199-8112-e0fe3df29754",
   "metadata": {},
   "outputs": [
    {
     "name": "stdout",
     "output_type": "stream",
     "text": [
      "{\n",
      "  \"argv\" : [ \"/home/user/.local/share/jupyter/kernels/apache_toree_scala/bin/run.sh\", \"--profile\", \"{connection_file}\" ],\n",
      "  \"env\" : {\n",
      "    \"DEFAULT_INTERPRETER\" : \"Scala\",\n",
      "    \"__TOREE_SPARK_OPTS__\" : \"\",\n",
      "    \"__TOREE_OPTS__\" : \"\",\n",
      "    \"SPARK_HOME\" : \"/opt/spark\"\n",
      "  },\n",
      "  \"display_name\" : \"Apache Toree - Scala\",\n",
      "  \"language\" : \"scala\",\n",
      "  \"interrupt_mode\" : \"signal\",\n",
      "  \"metadata\" : { }\n",
      "}\n"
     ]
    }
   ],
   "source": [
    "println(mapper.writerWithDefaultPrettyPrinter().writeValueAsString(jsonObject))"
   ]
  },
  {
   "cell_type": "code",
   "execution_count": null,
   "id": "f0fcd6d1-6618-419b-8fca-599d7cae6408",
   "metadata": {},
   "outputs": [],
   "source": []
  },
  {
   "cell_type": "code",
   "execution_count": null,
   "id": "7767cbea-1be9-492b-a5e3-838217b859c4",
   "metadata": {},
   "outputs": [],
   "source": []
  }
 ],
 "metadata": {
  "kernelspec": {
   "display_name": "Apache Toree - Scala",
   "language": "scala",
   "name": "apache_toree_scala"
  },
  "language_info": {
   "codemirror_mode": "text/x-scala",
   "file_extension": ".scala",
   "mimetype": "text/x-scala",
   "name": "scala",
   "pygments_lexer": "scala",
   "version": "2.12.15"
  }
 },
 "nbformat": 4,
 "nbformat_minor": 5
}
